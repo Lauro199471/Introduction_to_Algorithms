{
 "cells": [
  {
   "cell_type": "markdown",
   "metadata": {},
   "source": [
    "# Python Program for simple recursion"
   ]
  },
  {
   "cell_type": "markdown",
   "metadata": {},
   "source": [
    "This program similates the recurrence relation function: <br>\n",
    "T(0) , T(1) = 5  _(base case)_<br>\n",
    "T(n) = T(n-1) +3 _(Recursive case)_ <br>"
   ]
  },
  {
   "cell_type": "markdown",
   "metadata": {},
   "source": [
    "# T(n) Linear Function"
   ]
  },
  {
   "cell_type": "code",
   "execution_count": 1,
   "metadata": {},
   "outputs": [],
   "source": [
    "def T(n):\n",
    "    # Base Case\n",
    "    if(n == 0 or n == 1):\n",
    "        print(\"T(\" + str(n) + \") = 5\")\n",
    "        return 5\n",
    "    # Recurance\n",
    "    else:\n",
    "        print(\"T(\" + str(n) + \") = T(\"+str(n-1)+\") + 3\")\n",
    "        return T(n-1) + 3"
   ]
  },
  {
   "cell_type": "markdown",
   "metadata": {},
   "source": [
    "Main Function"
   ]
  },
  {
   "cell_type": "code",
   "execution_count": 2,
   "metadata": {},
   "outputs": [
    {
     "name": "stdout",
     "output_type": "stream",
     "text": [
      "T(5) = T(4) + 3\n",
      "T(4) = T(3) + 3\n",
      "T(3) = T(2) + 3\n",
      "T(2) = T(1) + 3\n",
      "T(1) = 5\n"
     ]
    },
    {
     "data": {
      "text/plain": [
       "17"
      ]
     },
     "execution_count": 2,
     "metadata": {},
     "output_type": "execute_result"
    }
   ],
   "source": [
    "n = 5\n",
    "T(n)"
   ]
  },
  {
   "cell_type": "markdown",
   "metadata": {},
   "source": [
    "###  T(n - 1) of calls for n"
   ]
  },
  {
   "cell_type": "code",
   "execution_count": 3,
   "metadata": {},
   "outputs": [],
   "source": [
    "import sys\n",
    "sys.setrecursionlimit(15000000)\n",
    "\n",
    "def T(n , k,iteration = 0):\n",
    "    # Base Case\n",
    "    if(n <= 0):\n",
    "        return iteration\n",
    "    # Recurance\n",
    "    else:\n",
    "        return T(n-k ,k, iteration+1)"
   ]
  },
  {
   "cell_type": "code",
   "execution_count": 4,
   "metadata": {},
   "outputs": [],
   "source": [
    "k = 1\n",
    "data_1 = dict() # Hash Table (n , # of iterations to complete)\n",
    "for i in range(k,100+k):\n",
    "    iterations = T(i,k) # T(n)\n",
    "    data_1[i] = iterations\n",
    "    \n",
    "k = 4\n",
    "data_4 = dict() # Hash Table (n , # of iterations to complete)\n",
    "for i in range(k,100+k):\n",
    "    iterations = T(i,k) # T(n)\n",
    "    data_4[i] = iterations\n",
    "    \n",
    "k = 9\n",
    "data_9 = dict() # Hash Table (n , # of iterations to complete)\n",
    "for i in range(k,100+k):\n",
    "    iterations = T(i,k) # T(n)\n",
    "    data_9[i] = iterations"
   ]
  },
  {
   "cell_type": "markdown",
   "metadata": {},
   "source": [
    "Graph for Visualization"
   ]
  },
  {
   "cell_type": "code",
   "execution_count": 5,
   "metadata": {},
   "outputs": [],
   "source": [
    "import numpy as np\n",
    "import matplotlib.pyplot as plt"
   ]
  },
  {
   "cell_type": "code",
   "execution_count": 6,
   "metadata": {},
   "outputs": [
    {
     "data": {
      "image/png": "[encoded data removed]",
      "text/plain": [
       "<Figure size 432x288 with 1 Axes>"
      ]
     },
     "metadata": {
      "needs_background": "light"
     },
     "output_type": "display_data"
    }
   ],
   "source": [
    "# k = 1\n",
    "data_n_1    = data_1.keys()\n",
    "data_iter_1 = data_1.values()\n",
    "plt.plot(data_n_1,data_iter_1)\n",
    "\n",
    "# k = 4\n",
    "data_n_4    = data_4.keys()\n",
    "data_iter_4 = data_4.values()\n",
    "plt.plot(data_n_4,data_iter_4)\n",
    "\n",
    "# k = 9\n",
    "data_n_9    = data_9.keys()\n",
    "data_iter_9 = data_9.values()\n",
    "plt.plot(data_n_9,data_iter_9)\n",
    "\n",
    "plt.gca().legend(('1','4','9'))\n",
    "plt.show()"
   ]
  },
  {
   "cell_type": "markdown",
   "metadata": {},
   "source": [
    "As you can see its O(n) for number of iterations"
   ]
  },
  {
   "cell_type": "markdown",
   "metadata": {},
   "source": [
    "# T(n<sup>k</sup> ) Poly Function"
   ]
  },
  {
   "cell_type": "code",
   "execution_count": 15,
   "metadata": {},
   "outputs": [],
   "source": [
    "def T(n,k,iteration = 0):\n",
    "    for i in range(n):\n",
    "        for j in range(k):\n",
    "            iteration = iteration + 1\n",
    "    return iteration\n",
    "            "
   ]
  },
  {
   "cell_type": "code",
   "execution_count": 18,
   "metadata": {},
   "outputs": [
    {
     "data": {
      "text/plain": [
       "15"
      ]
     },
     "execution_count": 18,
     "metadata": {},
     "output_type": "execute_result"
    }
   ],
   "source": [
    "n = 3\n",
    "k = 5\n",
    "T(n,k)"
   ]
  },
  {
   "cell_type": "code",
   "execution_count": 13,
   "metadata": {},
   "outputs": [],
   "source": []
  },
  {
   "cell_type": "code",
   "execution_count": null,
   "metadata": {},
   "outputs": [],
   "source": []
  },
  {
   "cell_type": "code",
   "execution_count": null,
   "metadata": {},
   "outputs": [],
   "source": []
  }
 ],
 "metadata": {
  "kernelspec": {
   "display_name": "Python 3",
   "language": "python",
   "name": "python3"
  },
  "language_info": {
   "codemirror_mode": {
    "name": "ipython",
    "version": 3
   },
   "file_extension": ".py",
   "mimetype": "text/x-python",
   "name": "python",
   "nbconvert_exporter": "python",
   "pygments_lexer": "ipython3",
   "version": "3.7.3"
  }
 },
 "nbformat": 4,
 "nbformat_minor": 2
}

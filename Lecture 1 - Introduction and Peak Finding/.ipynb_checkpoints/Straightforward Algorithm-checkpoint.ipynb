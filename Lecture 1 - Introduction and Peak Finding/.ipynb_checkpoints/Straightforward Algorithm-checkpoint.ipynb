{
 "cells": [
  {
   "cell_type": "code",
   "execution_count": 1,
   "metadata": {},
   "outputs": [],
   "source": [
    "# [ a , b , c]\n",
    "# Algorithm       : Straightforward Algorithm\n",
    "# Time Complexity : O(N)\n",
    "def FindPeak(listx):\n",
    "    iterationCount = 0\n",
    "    a = 0\n",
    "    b = 0\n",
    "    \n",
    "    # Start algorithm\n",
    "    for i in range(len(listx)):\n",
    "        # Count number of iterations\n",
    "        iterationCount = iterationCount + 1\n",
    "        a = i\n",
    "        b = i + 1\n",
    "        \n",
    "        # if array is increasing and within range\n",
    "        #   then keep checking\n",
    "        if(b < len(listx)):\n",
    "            # if b is smaller\n",
    "            #    then a is peak\n",
    "            if(listx[b] < listx[a]):\n",
    "                return listx[a] , iterationCount\n",
    "            \n",
    "        # else if a is last element and peak\n",
    "        #    return b\n",
    "        else:\n",
    "            b = b - 1\n",
    "            return listx[b] , iterationCount"
   ]
  },
  {
   "cell_type": "code",
   "execution_count": 2,
   "metadata": {
    "scrolled": true
   },
   "outputs": [
    {
     "name": "stdout",
     "output_type": "stream",
     "text": [
      "Array N-size: 1000000\n",
      "Peak@: 1000000\n",
      "Number of Iterations: 1000000\n"
     ]
    }
   ],
   "source": [
    "# Create an Array of size 1,000,000\n",
    "num_of_elements = 1000001\n",
    "newlist = []\n",
    "\n",
    "for i in range(1,num_of_elements):\n",
    "    newlist.append(i)\n",
    "    \n",
    "peakvalue , iterationCount = FindPeak(newlist)\n",
    "print(\"Array N-size: \" + str(len(newlist)))\n",
    "print(\"Peak@: \" + str(peakvalue))\n",
    "print(\"Number of Iterations: \" + str(iterationCount))"
   ]
  }
 ],
 "metadata": {
  "kernelspec": {
   "display_name": "Python 3",
   "language": "python",
   "name": "python3"
  },
  "language_info": {
   "codemirror_mode": {
    "name": "ipython",
    "version": 3
   },
   "file_extension": ".py",
   "mimetype": "text/x-python",
   "name": "python",
   "nbconvert_exporter": "python",
   "pygments_lexer": "ipython3",
   "version": "3.7.3"
  }
 },
 "nbformat": 4,
 "nbformat_minor": 2
}
